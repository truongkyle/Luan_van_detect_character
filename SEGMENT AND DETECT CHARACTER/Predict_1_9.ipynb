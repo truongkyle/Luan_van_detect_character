{
 "cells": [
  {
   "cell_type": "code",
   "execution_count": 1,
   "metadata": {},
   "outputs": [
    {
     "name": "stderr",
     "output_type": "stream",
     "text": [
      "Using TensorFlow backend.\n"
     ]
    }
   ],
   "source": [
    "from keras.models import load_model\n"
   ]
  },
  {
   "cell_type": "code",
   "execution_count": 4,
   "metadata": {},
   "outputs": [],
   "source": [
    "import numpy as np\n",
    "import csv\n",
    "import matplotlib\n",
    "import matplotlib.pyplot as plt\n",
    "import matplotlib\n",
    "import cv2\n",
    "from PIL import Image as PIL_Image\n",
    "from PIL import ImageEnhance\n",
    "from PIL import ImageOps"
   ]
  },
  {
   "cell_type": "code",
   "execution_count": 14,
   "metadata": {},
   "outputs": [],
   "source": [
    "import datetime"
   ]
  },
  {
   "cell_type": "code",
   "execution_count": 3,
   "metadata": {},
   "outputs": [],
   "source": [
    "model = load_model('../CNN_1_9_1CNN.hdf5')"
   ]
  },
  {
   "cell_type": "code",
   "execution_count": 5,
   "metadata": {},
   "outputs": [],
   "source": [
    "def general(img):\n",
    "    #Image enhancement                  \n",
    "    contr = ImageEnhance.Contrast(img)  \n",
    "    img = contr.enhance(5)                                                    # The enhancement values (contrast and brightness)   \n",
    "    bright = ImageEnhance.Brightness(img)                                     # depends on backgroud, external lights etc  \n",
    "    img = bright.enhance(2.0)\n",
    "    img = ImageOps.expand(img,border=80,fill='white')   \n",
    "    threshold = 120    \n",
    "    img = img.point(lambda p: p > threshold and 255)  \n",
    "    \n",
    "    #Find bounding box  \n",
    "    inverted = ImageOps.invert(img)  \n",
    "    box = inverted.getbbox()  \n",
    "    img_new = img.crop(box)  \n",
    "    width, height = img_new.size  \n",
    "    ratio = min((28./height), (28./width))  \n",
    "    background = PIL_Image.new('RGB', (28,28), (255,255,255)) \n",
    "    \n",
    "    if(height == width):  \n",
    "        img_new = img_new.resize((28,28))  \n",
    "    elif(height>width):  \n",
    "        img_new = img_new.resize((int(width*ratio),28))  \n",
    "        background.paste(img_new, (int((28-img_new.size[0])/2),int((28-img_new.size[1])/2)))  \n",
    "    else:  \n",
    "        img_new = img_new.resize((28, int(height*ratio)))  \n",
    "        background.paste(img_new, (int((28-img_new.size[0])/2),int((28-img_new.size[1])/2)))  \n",
    "        \n",
    "    # background = background.convert(\"L\")\n",
    "    img_data=np.asarray(background)\n",
    "    img_data = img_data[:,:,0]  \n",
    "    img_data = 255 -img_data\n",
    "    \n",
    "    return img_data"
   ]
  },
  {
   "cell_type": "code",
   "execution_count": 17,
   "metadata": {},
   "outputs": [
    {
     "data": {
      "image/png": "[encoded data removed]",
      "text/plain": [
       "<PIL.Image.Image image mode=L size=39x81 at 0x7F10C0052400>"
      ]
     },
     "execution_count": 17,
     "metadata": {},
     "output_type": "execute_result"
    }
   ],
   "source": [
    "orig_img_path = './c61.png'\n",
    "img = PIL_Image.open(orig_img_path).convert(\"L\")\n",
    "img"
   ]
  },
  {
   "cell_type": "code",
   "execution_count": 18,
   "metadata": {},
   "outputs": [
    {
     "name": "stdout",
     "output_type": "stream",
     "text": [
      "(28, 28)\n"
     ]
    },
    {
     "data": {
      "image/png": "[encoded data removed]",
      "text/plain": [
       "<Figure size 432x288 with 1 Axes>"
      ]
     },
     "metadata": {
      "needs_background": "light"
     },
     "output_type": "display_data"
    },
    {
     "name": "stdout",
     "output_type": "stream",
     "text": [
      "(1, 28, 28, 1)\n"
     ]
    }
   ],
   "source": [
    "img_1 = general(img)\n",
    "img_1 = 255 -img_1\n",
    "\n",
    "print(img_1.shape)\n",
    "plt.imshow(img_1, cmap='gray')\n",
    "plt.show()\n",
    "img_1=img_1.reshape(1,28,28,1)\n",
    "print(img_1.shape)"
   ]
  },
  {
   "cell_type": "code",
   "execution_count": 19,
   "metadata": {},
   "outputs": [
    {
     "name": "stdout",
     "output_type": "stream",
     "text": [
      "0.003478\n"
     ]
    }
   ],
   "source": [
    "a = datetime.datetime.now()\n",
    "predict = model.predict(img_1)\n",
    "b = datetime.datetime.now()\n",
    "c = b -a\n",
    "print(str(c.total_seconds()))"
   ]
  },
  {
   "cell_type": "code",
   "execution_count": 20,
   "metadata": {},
   "outputs": [
    {
     "name": "stdout",
     "output_type": "stream",
     "text": [
      "6\n",
      "[[8.1788057e-05 2.7376764e-05 1.5893633e-06 1.6395157e-05 6.1521394e-05\n",
      "  2.8133759e-04 9.9945229e-01 8.6021091e-06 6.2560524e-05 6.5903350e-06]]\n"
     ]
    }
   ],
   "source": [
    "print(np.argmax(predict))\n",
    "print(predict)"
   ]
  },
  {
   "cell_type": "code",
   "execution_count": null,
   "metadata": {},
   "outputs": [],
   "source": []
  }
 ],
 "metadata": {
  "kernelspec": {
   "display_name": "Python 3",
   "language": "python",
   "name": "python3"
  },
  "language_info": {
   "codemirror_mode": {
    "name": "ipython",
    "version": 3
   },
   "file_extension": ".py",
   "mimetype": "text/x-python",
   "name": "python",
   "nbconvert_exporter": "python",
   "pygments_lexer": "ipython3",
   "version": "3.6.8"
  }
 },
 "nbformat": 4,
 "nbformat_minor": 2
}
